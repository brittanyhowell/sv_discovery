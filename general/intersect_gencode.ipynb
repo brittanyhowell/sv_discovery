{
 "cells": [
  {
   "cell_type": "markdown",
   "metadata": {},
   "source": [
    "## Plan\n",
    "Plan is to make a script that will find which genes overlap a DEL and then annotate them. \n",
    "The kind of thing I want to end up with is a table that has genes as rows, and samples as columns, where for each gene, there is either an overlap or there isn't. This makes no sense wow.\n",
    "\n",
    "1. Check that the chromosome is the same\n",
    "\n",
    "AND EITHER\n",
    "\n",
    "1. start (gene) < start (DEL) &&  end (gene) > start (DEL)\n",
    "\n",
    "OR \n",
    "\n",
    "1. start (gene) < end (DEL) && end (gene) > end (DEL)\n",
    "\n",
    "If either of these are true, then measure the overlap\n"
   ]
  },
  {
   "cell_type": "code",
   "execution_count": 2,
   "metadata": {
    "collapsed": true
   },
   "outputs": [],
   "source": [
    "del.file <- \"~/Documents/Rotation3/scripts/general/test_dels.txt\"\n",
    "gene.file <-\"~/Documents/Rotation3/scripts/general/test_genes.txt\" \n",
    "\n",
    "\n",
    "dels <- read.table(del.file, header = T)\n",
    "dels <- dels[1:3]\n",
    "colnames(dels) <- c(\"chr\", \"start\", \"end\")\n",
    "\n",
    "genes <- read.table(gene.file)\n",
    "genes <- genes[1:3]\n",
    "colnames(genes) <- c(\"chr\",\"start\", \"end\")\n",
    "\n",
    "\n"
   ]
  },
  {
   "cell_type": "code",
   "execution_count": 3,
   "metadata": {},
   "outputs": [
    {
     "data": {
      "text/html": [
       "<table>\n",
       "<thead><tr><th scope=col>chr</th><th scope=col>start</th><th scope=col>end</th></tr></thead>\n",
       "<tbody>\n",
       "\t<tr><td>10    </td><td> 40000</td><td> 40100</td></tr>\n",
       "\t<tr><td>10    </td><td> 48000</td><td> 48100</td></tr>\n",
       "\t<tr><td>10    </td><td>240000</td><td>240100</td></tr>\n",
       "\t<tr><td>10    </td><td>280000</td><td>280100</td></tr>\n",
       "</tbody>\n",
       "</table>\n"
      ],
      "text/latex": [
       "\\begin{tabular}{r|lll}\n",
       " chr & start & end\\\\\n",
       "\\hline\n",
       "\t 10     &  40000 &  40100\\\\\n",
       "\t 10     &  48000 &  48100\\\\\n",
       "\t 10     & 240000 & 240100\\\\\n",
       "\t 10     & 280000 & 280100\\\\\n",
       "\\end{tabular}\n"
      ],
      "text/markdown": [
       "\n",
       "chr | start | end | \n",
       "|---|---|---|---|\n",
       "| 10     |  40000 |  40100 | \n",
       "| 10     |  48000 |  48100 | \n",
       "| 10     | 240000 | 240100 | \n",
       "| 10     | 280000 | 280100 | \n",
       "\n",
       "\n"
      ],
      "text/plain": [
       "  chr start  end   \n",
       "1 10   40000  40100\n",
       "2 10   48000  48100\n",
       "3 10  240000 240100\n",
       "4 10  280000 280100"
      ]
     },
     "metadata": {},
     "output_type": "display_data"
    }
   ],
   "source": [
    "genes"
   ]
  },
  {
   "cell_type": "code",
   "execution_count": 4,
   "metadata": {},
   "outputs": [
    {
     "data": {
      "text/html": [
       "<table>\n",
       "<thead><tr><th scope=col>chr</th><th scope=col>start</th><th scope=col>end</th></tr></thead>\n",
       "<tbody>\n",
       "\t<tr><td>10    </td><td> 40000</td><td> 40200</td></tr>\n",
       "\t<tr><td>10    </td><td> 48050</td><td> 48100</td></tr>\n",
       "\t<tr><td>18    </td><td>290100</td><td>299100</td></tr>\n",
       "</tbody>\n",
       "</table>\n"
      ],
      "text/latex": [
       "\\begin{tabular}{r|lll}\n",
       " chr & start & end\\\\\n",
       "\\hline\n",
       "\t 10     &  40000 &  40200\\\\\n",
       "\t 10     &  48050 &  48100\\\\\n",
       "\t 18     & 290100 & 299100\\\\\n",
       "\\end{tabular}\n"
      ],
      "text/markdown": [
       "\n",
       "chr | start | end | \n",
       "|---|---|---|\n",
       "| 10     |  40000 |  40200 | \n",
       "| 10     |  48050 |  48100 | \n",
       "| 18     | 290100 | 299100 | \n",
       "\n",
       "\n"
      ],
      "text/plain": [
       "  chr start  end   \n",
       "1 10   40000  40200\n",
       "2 10   48050  48100\n",
       "3 18  290100 299100"
      ]
     },
     "metadata": {},
     "output_type": "display_data"
    }
   ],
   "source": [
    "dels"
   ]
  },
  {
   "cell_type": "code",
   "execution_count": 5,
   "metadata": {},
   "outputs": [
    {
     "data": {
      "text/html": [
       "<ol class=list-inline>\n",
       "\t<li>80110</li>\n",
       "\t<li>96110</li>\n",
       "\t<li>480110</li>\n",
       "\t<li>560110</li>\n",
       "</ol>\n"
      ],
      "text/latex": [
       "\\begin{enumerate*}\n",
       "\\item 80110\n",
       "\\item 96110\n",
       "\\item 480110\n",
       "\\item 560110\n",
       "\\end{enumerate*}\n"
      ],
      "text/markdown": [
       "1. 80110\n",
       "2. 96110\n",
       "3. 480110\n",
       "4. 560110\n",
       "\n",
       "\n"
      ],
      "text/plain": [
       "[1]  80110  96110 480110 560110"
      ]
     },
     "metadata": {},
     "output_type": "display_data"
    }
   ],
   "source": [
    "apply(genes, 1, sum)"
   ]
  },
  {
   "cell_type": "code",
   "execution_count": 6,
   "metadata": {},
   "outputs": [
    {
     "data": {
      "text/html": [
       "<ol class=list-inline>\n",
       "\t<li>TRUE</li>\n",
       "\t<li>TRUE</li>\n",
       "\t<li>TRUE</li>\n",
       "\t<li>TRUE</li>\n",
       "</ol>\n"
      ],
      "text/latex": [
       "\\begin{enumerate*}\n",
       "\\item TRUE\n",
       "\\item TRUE\n",
       "\\item TRUE\n",
       "\\item TRUE\n",
       "\\end{enumerate*}\n"
      ],
      "text/markdown": [
       "1. TRUE\n",
       "2. TRUE\n",
       "3. TRUE\n",
       "4. TRUE\n",
       "\n",
       "\n"
      ],
      "text/plain": [
       "[1] TRUE TRUE TRUE TRUE"
      ]
     },
     "metadata": {},
     "output_type": "display_data"
    }
   ],
   "source": [
    "apply(genes, 1, function(v) any(v[1]==dels[1] ))"
   ]
  },
  {
   "cell_type": "code",
   "execution_count": 17,
   "metadata": {},
   "outputs": [
    {
     "ename": "ERROR",
     "evalue": "Error in v[, 1]: incorrect number of dimensions\n",
     "output_type": "error",
     "traceback": [
      "Error in v[, 1]: incorrect number of dimensions\nTraceback:\n",
      "1. apply(genes, 1, function(v) any(v[, 1] == dels[, 1] & as.numeric(v[, \n .     2]) <= as.numeric(dels[, 2])))",
      "2. FUN(newX[, i], ...)"
     ]
    }
   ],
   "source": [
    "apply(genes, 1, function(v) any(v[,1]==dels[,1] &  as.numeric(v[,2]) <= as.numeric(dels[,2]) ))"
   ]
  },
  {
   "cell_type": "code",
   "execution_count": 22,
   "metadata": {},
   "outputs": [
    {
     "data": {
      "text/html": [
       "<ol class=list-inline>\n",
       "\t<li>TRUE</li>\n",
       "\t<li>TRUE</li>\n",
       "\t<li>FALSE</li>\n",
       "\t<li>FALSE</li>\n",
       "</ol>\n"
      ],
      "text/latex": [
       "\\begin{enumerate*}\n",
       "\\item TRUE\n",
       "\\item TRUE\n",
       "\\item FALSE\n",
       "\\item FALSE\n",
       "\\end{enumerate*}\n"
      ],
      "text/markdown": [
       "1. TRUE\n",
       "2. TRUE\n",
       "3. FALSE\n",
       "4. FALSE\n",
       "\n",
       "\n"
      ],
      "text/plain": [
       "[1]  TRUE  TRUE FALSE FALSE"
      ]
     },
     "metadata": {},
     "output_type": "display_data"
    }
   ],
   "source": [
    "apply(genes, 1, function(v) any(v[1]==dels[,1] & as.numeric(v[2]) <= as.numeric(dels[,2])  ))"
   ]
  },
  {
   "cell_type": "markdown",
   "metadata": {},
   "source": [
    "AHA\n",
    "\n",
    "The v needs no comma, but you need to let R know that you are looking at the column value\n"
   ]
  },
  {
   "cell_type": "code",
   "execution_count": 26,
   "metadata": {},
   "outputs": [
    {
     "data": {
      "text/html": [
       "<table>\n",
       "<thead><tr><th scope=col>chr</th><th scope=col>start</th><th scope=col>end</th></tr></thead>\n",
       "<tbody>\n",
       "\t<tr><td>10    </td><td> 40000</td><td> 40100</td></tr>\n",
       "\t<tr><td>10    </td><td> 48000</td><td> 48100</td></tr>\n",
       "\t<tr><td>10    </td><td>240000</td><td>240100</td></tr>\n",
       "\t<tr><td>10    </td><td>280000</td><td>280100</td></tr>\n",
       "</tbody>\n",
       "</table>\n"
      ],
      "text/latex": [
       "\\begin{tabular}{r|lll}\n",
       " chr & start & end\\\\\n",
       "\\hline\n",
       "\t 10     &  40000 &  40100\\\\\n",
       "\t 10     &  48000 &  48100\\\\\n",
       "\t 10     & 240000 & 240100\\\\\n",
       "\t 10     & 280000 & 280100\\\\\n",
       "\\end{tabular}\n"
      ],
      "text/markdown": [
       "\n",
       "chr | start | end | \n",
       "|---|---|---|---|\n",
       "| 10     |  40000 |  40100 | \n",
       "| 10     |  48000 |  48100 | \n",
       "| 10     | 240000 | 240100 | \n",
       "| 10     | 280000 | 280100 | \n",
       "\n",
       "\n"
      ],
      "text/plain": [
       "  chr start  end   \n",
       "1 10   40000  40100\n",
       "2 10   48000  48100\n",
       "3 10  240000 240100\n",
       "4 10  280000 280100"
      ]
     },
     "metadata": {},
     "output_type": "display_data"
    }
   ],
   "source": [
    "genes"
   ]
  },
  {
   "cell_type": "code",
   "execution_count": 27,
   "metadata": {},
   "outputs": [
    {
     "data": {
      "text/html": [
       "<table>\n",
       "<thead><tr><th scope=col>chr</th><th scope=col>start</th><th scope=col>end</th></tr></thead>\n",
       "<tbody>\n",
       "\t<tr><td>10    </td><td> 40000</td><td> 40200</td></tr>\n",
       "\t<tr><td>10    </td><td> 48050</td><td> 48100</td></tr>\n",
       "\t<tr><td>18    </td><td>290100</td><td>299100</td></tr>\n",
       "</tbody>\n",
       "</table>\n"
      ],
      "text/latex": [
       "\\begin{tabular}{r|lll}\n",
       " chr & start & end\\\\\n",
       "\\hline\n",
       "\t 10     &  40000 &  40200\\\\\n",
       "\t 10     &  48050 &  48100\\\\\n",
       "\t 18     & 290100 & 299100\\\\\n",
       "\\end{tabular}\n"
      ],
      "text/markdown": [
       "\n",
       "chr | start | end | \n",
       "|---|---|---|\n",
       "| 10     |  40000 |  40200 | \n",
       "| 10     |  48050 |  48100 | \n",
       "| 18     | 290100 | 299100 | \n",
       "\n",
       "\n"
      ],
      "text/plain": [
       "  chr start  end   \n",
       "1 10   40000  40200\n",
       "2 10   48050  48100\n",
       "3 18  290100 299100"
      ]
     },
     "metadata": {},
     "output_type": "display_data"
    }
   ],
   "source": [
    "dels"
   ]
  },
  {
   "cell_type": "code",
   "execution_count": null,
   "metadata": {
    "collapsed": true
   },
   "outputs": [],
   "source": []
  }
 ],
 "metadata": {
  "kernelspec": {
   "display_name": "R",
   "language": "R",
   "name": "ir"
  },
  "language_info": {
   "codemirror_mode": "r",
   "file_extension": ".r",
   "mimetype": "text/x-r-source",
   "name": "R",
   "pygments_lexer": "r",
   "version": "3.4.1"
  }
 },
 "nbformat": 4,
 "nbformat_minor": 2
}
