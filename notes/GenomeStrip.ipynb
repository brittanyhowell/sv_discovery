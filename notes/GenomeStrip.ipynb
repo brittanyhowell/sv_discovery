{
 "cells": [
  {
   "cell_type": "markdown",
   "metadata": {},
   "source": [
    "# Running Genomestrip\n",
    "\n",
    "## Purpose \n",
    "The following commands are used to call genomestrip on indicated days. Genomestrip and associated scripts can be found in the [Genomestrip](https://github.com/brittanyhowell/sv_discovery/tree/master/genomeStrip) folder of [SV_discovery](https://github.com/brittanyhowell/sv_discovery).\n",
    "\n",
    "\n",
    "### April 9\n",
    "\n",
    "#### Running preprocess on subset of 2 chr20 only BAMs.\n",
    "Commit: [run for chr20 samples](https://github.com/brittanyhowell/sv_discovery/blob/e4b87654b2cb65bc93e8d28ba48c619d7df73380/genomeStrip/edited/preprocess.sh)\n",
    "```\n",
    "bsub  -o /nfs/team151/bh10/scripts/genomestrip_bh10/output/preprocess.c20_2BAM.lng.%J.out -e /nfs/team151/bh10/scripts/genomestrip_bh10/output/preprocess.c20_2BAM.lng.%J.err -R\"select[mem>20000] rusage[mem=20000]\" -M20000 \"/nfs/team151/bh10/scripts/genomestrip_bh10/preprocess.sh INTERVAL_c20_pre_long /nfs/team151/bh10/scripts/genomestrip_bh10/bamMiniList.list\"\n",
    "```\n",
    "\n",
    "#### Running reHeader to change the @PG lines so that they no longer contain \"@RG\", in case that was messing with the software.\n",
    "Commit: [change to remove spurious @RGs](https://github.com/brittanyhowell/sv_discovery/blob/adafaf661f76b0033e4e8a0b3f9a347935419818/genomeStrip/edited/changeHeader.sh)\n",
    "```\n",
    "bsub -q normal -o /nfs/team151/bh10/scripts/breakdancer_bh10/output/changeBAMHeader.out -e /nfs/team151/bh10/scripts/breakdancer_bh10/output/changeBAMHeader.err -R\"select[mem>2000] rusage[mem=2000]\" -M2000 \"/nfs/team151/bh10/scripts/breakdancer_bh10/reHeader.sh\"\n",
    "```\n",
    "\n",
    "#### Running breakdancer on a few test bams to see if by any miracle, reheadering fixes the problem\n",
    "Commit: [run on small set of reHeadered bams](https://github.com/brittanyhowell/sv_discovery/blob/master/breakdancer/BD-run.sh)\n",
    "\n",
    "```\n",
    "bsub -J \"BDArray[1-9]\" -o /nfs/team151/bh10/scripts/breakdancer_bh10/output/o_max_BD-%I-%J.out -e /nfs/team151/bh10/scripts/breakdancer_bh10/output/o_max_BD-%I-%J.err \"/nfs/team151/bh10/scripts/breakdancer_bh10/BD-run.sh /lustre/scratch115/projects/interval_wgs/WGbams_newheader/newBams.txt\"\n",
    "```\n",
    "\n",
    "\n"
   ]
  },
  {
   "cell_type": "code",
   "execution_count": null,
   "metadata": {
    "collapsed": true
   },
   "outputs": [],
   "source": []
  }
 ],
 "metadata": {
  "kernelspec": {
   "display_name": "Python 2",
   "language": "python",
   "name": "python2"
  },
  "language_info": {
   "codemirror_mode": {
    "name": "ipython",
    "version": 2
   },
   "file_extension": ".py",
   "mimetype": "text/x-python",
   "name": "python",
   "nbconvert_exporter": "python",
   "pygments_lexer": "ipython2",
   "version": "2.7.13"
  }
 },
 "nbformat": 4,
 "nbformat_minor": 2
}
