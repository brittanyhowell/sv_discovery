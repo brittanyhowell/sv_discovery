{
 "cells": [
  {
   "cell_type": "markdown",
   "metadata": {},
   "source": [
    "# Running Genomestrip\n",
    "\n",
    "## Purpose \n",
    "The following commands are used to call genomestrip on indicated days. Genomestrip and associated scripts can be found in the [Genomestrip](https://github.com/brittanyhowell/sv_discovery/tree/master/genomeStrip) folder of [SV_discovery](https://github.com/brittanyhowell/sv_discovery).\n",
    "\n",
    "\n",
    "## April 9\n",
    "\n",
    "### Running preprocess on subset of 2 chr20 only BAMs.\n",
    "Commit: [run for chr20 samples](https://github.com/brittanyhowell/sv_discovery/blob/e4b87654b2cb65bc93e8d28ba48c619d7df73380/genomeStrip/edited/preprocess.sh)\n",
    "```\n",
    "bsub  -o /nfs/team151/bh10/scripts/genomestrip_bh10/output/preprocess.c20_2BAM.lng.%J.out -e /nfs/team151/bh10/scripts/genomestrip_bh10/output/preprocess.c20_2BAM.lng.%J.err -R\"select[mem>20000] rusage[mem=20000]\" -M20000 \"/nfs/team151/bh10/scripts/genomestrip_bh10/preprocess.sh INTERVAL_c20_pre_long /nfs/team151/bh10/scripts/genomestrip_bh10/bamMiniList.list\"\n",
    "```\n",
    "\n",
    "## April 10 - FARM DOWN - cannot submit any jobs. \n",
    "## Ready to submit:\n",
    "\n",
    "Commit: [Increase heap memory, change for chr20 test](https://github.com/brittanyhowell/sv_discovery/blob/master/genomeStrip/edited/discovery.sh) \n",
    "```\n",
    "bsub -q long -o /nfs/team151/bh10/scripts/genomestrip_bh10/output/disc.c20.%J.out -e /nfs/team151/bh10/scripts/genomestrip_bh10/output/disc.c20.%J.err -R\"select[mem>20000] rusage[mem=20000]\" -M20000 \"/nfs/team151/bh10/scripts/genomestrip_bh10/discovery.sh INTERVAL_c20_disc\"\n",
    "```\n",
    "\n",
    "\n"
   ]
  },
  {
   "cell_type": "code",
   "execution_count": null,
   "metadata": {
    "collapsed": true
   },
   "outputs": [],
   "source": []
  }
 ],
 "metadata": {
  "kernelspec": {
   "display_name": "Python 2",
   "language": "python",
   "name": "python2"
  },
  "language_info": {
   "codemirror_mode": {
    "name": "ipython",
    "version": 2
   },
   "file_extension": ".py",
   "mimetype": "text/x-python",
   "name": "python",
   "nbconvert_exporter": "python",
   "pygments_lexer": "ipython2",
   "version": "2.7.13"
  }
 },
 "nbformat": 4,
 "nbformat_minor": 2
}
