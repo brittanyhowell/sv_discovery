{
 "cells": [
  {
   "cell_type": "markdown",
   "metadata": {},
   "source": [
    "# Running Breakdancer\n",
    "\n",
    "## Purpose \n",
    "The following commands are used to call Breakdancer on indicated days. Genomestrip and associated scripts can be found in the [Breakdancer](https://github.com/brittanyhowell/sv_discovery/tree/master/breakdancer) folder of [SV_discovery](https://github.com/brittanyhowell/sv_discovery).\n",
    "\n",
    "## April 9\n",
    "\n",
    "#### Running reHeader to change the @PG lines so that they no longer contain \"@RG\", in case that was messing with the software.\n",
    "Commit: [change to remove spurious @RGs](https://github.com/brittanyhowell/sv_discovery/blob/adafaf661f76b0033e4e8a0b3f9a347935419818/genomeStrip/edited/changeHeader.sh)\n",
    "```\n",
    "bsub -q normal -o /nfs/team151/bh10/scripts/breakdancer_bh10/output/changeBAMHeader.out -e /nfs/team151/bh10/scripts/breakdancer_bh10/output/changeBAMHeader.err -R\"select[mem>2000] rusage[mem=2000]\" -M2000 \"/nfs/team151/bh10/scripts/breakdancer_bh10/reHeader.sh\"\n",
    "```\n",
    "\n",
    "#### Running breakdancer on a few test bams to see if by any miracle, reheadering fixes the problem\n",
    "Commit: [run on small set of reHeadered bams](https://github.com/brittanyhowell/sv_discovery/blob/master/breakdancer/BD-run.sh)\n",
    "\n",
    "```\n",
    "bsub -J \"BDArray[1-9]\" -o /nfs/team151/bh10/scripts/breakdancer_bh10/output/o_max_BD-%I-%J.out -e /nfs/team151/bh10/scripts/breakdancer_bh10/output/o_max_BD-%I-%J.err \"/nfs/team151/bh10/scripts/breakdancer_bh10/BD-run.sh /lustre/scratch115/projects/interval_wgs/WGbams_newheader/newBams.txt\"\n",
    "```\n",
    "\n",
    "## April 10\n",
    "\n",
    "#### Running BD config on all 226 WG bams\n",
    "Commit: [Run with 226 WG bam samples](https://github.com/brittanyhowell/sv_discovery/blob/master/breakdancer/BD-config.sh)\n",
    "\n",
    "``` \n",
    "bsub -J \"BDArray[1-226]\" -o /nfs/team151/bh10/scripts/breakdancer_bh10/output/con_BD-%I-%J.out -e /nfs/team151/bh10/scripts/breakdancer_bh10/output/con_BD-%I-%J.err \"/nfs/team151/bh10/scripts/breakdancer_bh10/config_BD.sh /nfs/team151/bh10/scripts/breakdancer_bh10/WGbams.list\"\n",
    "```\n",
    "\n",
    "## April 10 - FARM DOWN - cannot submit any jobs. \n",
    "## Ready to submit:\n",
    "\n",
    "#### Running BD max on all 226 WG bams\n",
    "\n",
    "Commit: [run over 226 WG bams](https://github.com/brittanyhowell/sv_discovery/blob/master/breakdancer/BD-run.sh)\n",
    "\n",
    "```\n",
    "bsub -J \"BDArray[1-9]\" -o /nfs/team151/bh10/scripts/breakdancer_bh10/output/o_max_BD-%I-%J.out -e /nfs/team151/bh10/scripts/breakdancer_bh10/output/o_max_BD-%I-%J.err \"/nfs/team151/bh10/scripts/breakdancer_bh10/BD-run.sh /nfs/team151/bh10/scripts/breakdancer_bh10/WGbams_config.list\"\n",
    "```\n"
   ]
  },
  {
   "cell_type": "code",
   "execution_count": null,
   "metadata": {
    "collapsed": true
   },
   "outputs": [],
   "source": []
  }
 ],
 "metadata": {
  "kernelspec": {
   "display_name": "Python 2",
   "language": "python",
   "name": "python2"
  },
  "language_info": {
   "codemirror_mode": {
    "name": "ipython",
    "version": 2
   },
   "file_extension": ".py",
   "mimetype": "text/x-python",
   "name": "python",
   "nbconvert_exporter": "python",
   "pygments_lexer": "ipython2",
   "version": "2.7.13"
  }
 },
 "nbformat": 4,
 "nbformat_minor": 2
}
