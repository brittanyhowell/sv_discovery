{
 "cells": [
  {
   "cell_type": "markdown",
   "metadata": {},
   "source": [
    "# Analysis of Genomestrip - discovery pipeline\n",
    "\n",
    "## Purpose \n",
    "This output was generated with GenomeSTRiP throught the discovery pipline and has been genotyped. \n",
    "The following commands are used to extract and analyse the output, it is in a separate document to keep it from being confused with the genomestrip - cnv pipeline. \n",
    "\n",
    "\n",
    "\n",
    "## June 19\n",
    "\n",
    "### Extract genotypes and merge tables. \n",
    "\n",
    "1. File A:  ```bcftools query -H -f'%CHROM\\t%POS0\\t%END\\t%ID\\t%GSELENGTH[\\t%GT]\\n' gs_dels.genotypes.vcf.gz > gs_dels.genotypes.reduced.txt```\n",
    "3. File B: ```bcftools query -H -f'[\\t%GT]\\n' gs_dels.genotypes.vcf.gz > gs_dels.just.genotypes.reduced.txt```\n",
    "3. Both files have a \"#\" as their first character in line 1. Remove this.  \n",
    "3. paste files together (paste FileA FileB > FileC) \n",
    "```\n",
    "paste /lustre/scratch115/projects/interval_wgs/analysis/sv/kw8/genomestrip/genotyping_test2/del_output/genotyping/gs_dels.genotypes.reduced.2.txt gs_dels.just.genotypes.reduced.txt > genomestrip.genotypes.txt ```\n",
    "\n",
    "The combined file is now called ```226_discovery_genotypes.txt.gz```, in ```/lustre/scratch115/projects/interval_wgs/analysis/sv/kw8/genomestrip/discovery```\n",
    "\n",
    "```chr1\t1934917\t1935701\tDEL_P0001_156\t782\t0/1\t0/1```"
   ]
  },
  {
   "cell_type": "code",
   "execution_count": null,
   "metadata": {
    "collapsed": true
   },
   "outputs": [],
   "source": []
  },
  {
   "cell_type": "code",
   "execution_count": null,
   "metadata": {
    "collapsed": true
   },
   "outputs": [],
   "source": []
  }
 ],
 "metadata": {
  "kernelspec": {
   "display_name": "Python 2",
   "language": "python",
   "name": "python2"
  },
  "language_info": {
   "codemirror_mode": {
    "name": "ipython",
    "version": 2
   },
   "file_extension": ".py",
   "mimetype": "text/x-python",
   "name": "python",
   "nbconvert_exporter": "python",
   "pygments_lexer": "ipython2",
   "version": "2.7.13"
  }
 },
 "nbformat": 4,
 "nbformat_minor": 2
}
