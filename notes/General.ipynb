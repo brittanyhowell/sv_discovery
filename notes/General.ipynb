{
 "cells": [
  {
   "cell_type": "markdown",
   "metadata": {},
   "source": [
    "# General file editing\n",
    "\n",
    "## Purpose \n",
    "The following commands are used to edit files that aren't for one particular program. Associated scripts are found in the [General](https://github.com/brittanyhowell/sv_discovery/blob/master/general) folder of [SV_discovery](https://github.com/brittanyhowell/sv_discovery).\n",
    "\n",
    "## April 12\n",
    "\n",
    "### Make a bam index for all 4760 chr20 only bams\n",
    "Commit: [moved file](https://github.com/brittanyhowell/sv_discovery/blob/master/general/indexBAM.sh)\n",
    "```\n",
    "bsub -J \"BDArray[1-4760]\" -o /nfs/team151/bh10/scripts/breakdancer_bh10/output/indexBAM-%I-%J.out -e /nfs/team151/bh10/scripts/breakdancer_bh10/output/indexBAM-%I-%J.err \"/nfs/team151/bh10/scripts/breakdancer_bh10/indexBAM.sh /nfs/team151/bh10/scripts/genomestrip_bh10/fileLists/bamList.txt\"\n",
    "```\n",
    "\n",
    "\n",
    "## April 18\n",
    "\n",
    "### Filter bams based on standard chromosomes, run on WG bams\n",
    "Commit: [added reporting echoes](https://github.com/brittanyhowell/sv_discovery/blob/master/general/extract_std_chr.sh)\n",
    "```\n",
    "bsub -n3 -J  \"filter[1-226]\" -o /nfs/team151/bh10/scripts/bh10_general/output/filter/filter_std_chr%I-%J.out -e /nfs/team151/bh10/scripts/bh10_general/output/filter/filter_std_chr%I-%J.err -R\"select[mem>2000] rusage[mem=2000] span[hosts=1]\" -M2000 /nfs/team151/bh10/scripts/bh10_general/extract_std_chr.sh\n",
    "\n",
    "Job <9600455> is submitted to default queue <normal>.\n",
    "```\n",
    "\n",
    "\n",
    "## April 20\n",
    "\n",
    "### Index 225 WG Bams\n",
    "Commit: [rename file, change DIRs](https://github.com/brittanyhowell/sv_discovery/blob/master/general/indexSAM.sh)\n",
    "\n",
    "```\n",
    "bsub -J \"BDArray[1-225]\" -o /nfs/team151/bh10/scripts/bh10_general/output/indexBAM-%J-%I.out -e /nfs/team151/bh10/scripts/bh10_general/output/indexBAM-%J-%I.err \"/nfs/team151/bh10/scripts/bh10_general/indexBAM.sh /lustre/scratch115/projects/interval_wgs/WGbams_std/WG_225_std.list\"\n",
    "\n",
    "Job <9667951> is submitted to default queue <normal>.\n",
    "```\n",
    "\n",
    "\n",
    "## April 26 \n",
    "\n",
    "### Convert 3724 WG CRAMs to BAMs\n",
    "Commit: [Changed for 3724 WG CRAMs](https://github.com/brittanyhowell/sv_discovery/blob/master/general/CRAMtoBAM.sh)\n",
    "\n",
    "```\n",
    "bsub -J \"cramArray[1-3724]\" -o /nfs/team151/bh10/scripts/bh10_general/output/CRAMtoBAM/CRAM-to-BAM-%J-%I.out -e /nfs/team151/bh10/scripts/bh10_general/output/CRAMtoBAM/CRAM-to-BAM-%J-%I.err /nfs/team151/bh10/scripts/bh10_general/CRAMtoBAM.sh\n",
    "\n",
    "Job <218379> is submitted to default queue <normal>.\n",
    "```\n",
    "#### Failed: wrong list of files\n",
    "\n",
    "### Use correct file list!\n",
    "Commit: [correct file list this time I promise](https://github.com/brittanyhowell/sv_discovery/blob/master/general/CRAMtoBAM.sh)\n",
    "\n",
    "```\n",
    "bsub -J \"cramArray[1-3724]\" -o /nfs/team151/bh10/scripts/bh10_general/output/CRAMtoBAM/CRAM-to-BAM-%J-%I.out -e /nfs/team151/bh10/scripts/bh10_general/output/CRAMtoBAM/CRAM-to-BAM-%J-%I.err /nfs/team151/bh10/scripts/bh10_general/CRAMtoBAM.sh\n",
    "\n",
    "Job <218702> is submitted to default queue <normal>.\n",
    "```\n",
    "\n",
    "# Not submitted: \n",
    "\n",
    "### Index WG BAMs \n",
    "\n",
    "Commit: [change for 3724 WG bams](https://github.com/brittanyhowell/sv_discovery/blob/master/general/indexBAM.sh)\n",
    "```\n",
    "bsub -J \"BDArray[1-3724]\" -o /nfs/team151/bh10/scripts/bh10_general/output/indexBAM-%J-%I.out -e /nfs/team151/bh10/scripts/bh10_general/output/indexBAM-%J-%I.err \"/nfs/team151/bh10/scripts/bh10_general/indexBAM.sh /nfs/team151/bh10/scripts/bh10_general/fileLists/WG_bams.list\"\n",
    "\n",
    "Job <256158> is submitted to default queue <normal>.\n",
    "```"
   ]
  },
  {
   "cell_type": "code",
   "execution_count": null,
   "metadata": {
    "collapsed": true
   },
   "outputs": [],
   "source": []
  }
 ],
 "metadata": {
  "kernelspec": {
   "display_name": "Python 2",
   "language": "python",
   "name": "python2"
  },
  "language_info": {
   "codemirror_mode": {
    "name": "ipython",
    "version": 2
   },
   "file_extension": ".py",
   "mimetype": "text/x-python",
   "name": "python",
   "nbconvert_exporter": "python",
   "pygments_lexer": "ipython2",
   "version": "2.7.13"
  }
 },
 "nbformat": 4,
 "nbformat_minor": 2
}
