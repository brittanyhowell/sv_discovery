{
 "cells": [
  {
   "cell_type": "markdown",
   "metadata": {},
   "source": [
    "# General file editing\n",
    "\n",
    "## Purpose \n",
    "The following commands are used to edit files that aren't for one particular program. Associated scripts are found in the [General](https://github.com/brittanyhowell/sv_discovery/blob/master/general) folder of [SV_discovery](https://github.com/brittanyhowell/sv_discovery).\n",
    "\n",
    "## April 12\n",
    "\n",
    "### Make a bam index for all 4760 chr20 only bams\n",
    "Commit: [moved file](https://github.com/brittanyhowell/sv_discovery/blob/master/general/indexBAM.sh)\n",
    "```\n",
    "bsub -J \"BDArray[1-4760]\" -o /nfs/team151/bh10/scripts/breakdancer_bh10/output/indexBAM-%I-%J.out -e /nfs/team151/bh10/scripts/breakdancer_bh10/output/indexBAM-%I-%J.err \"/nfs/team151/bh10/scripts/breakdancer_bh10/indexBAM.sh /nfs/team151/bh10/scripts/genomestrip_bh10/fileLists/bamList.txt\"\n",
    "```\n"
   ]
  },
  {
   "cell_type": "code",
   "execution_count": null,
   "metadata": {
    "collapsed": true
   },
   "outputs": [],
   "source": []
  }
 ],
 "metadata": {
  "kernelspec": {
   "display_name": "Python 2",
   "language": "python",
   "name": "python2"
  },
  "language_info": {
   "codemirror_mode": {
    "name": "ipython",
    "version": 2
   },
   "file_extension": ".py",
   "mimetype": "text/x-python",
   "name": "python",
   "nbconvert_exporter": "python",
   "pygments_lexer": "ipython2",
   "version": "2.7.13"
  }
 },
 "nbformat": 4,
 "nbformat_minor": 2
}
